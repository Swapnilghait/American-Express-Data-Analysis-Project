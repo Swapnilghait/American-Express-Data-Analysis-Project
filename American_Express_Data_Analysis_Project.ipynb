{
  "nbformat": 4,
  "nbformat_minor": 0,
  "metadata": {
    "colab": {
      "provenance": []
    },
    "kernelspec": {
      "name": "python3",
      "display_name": "Python 3"
    }
  },
  "cells": [
    {
      "cell_type": "markdown",
      "metadata": {
        "id": "Z-jZGC0q0aiY"
      },
      "source": [
        "**American Express Data Analysis Project**"
      ]
    },
    {
      "cell_type": "markdown",
      "metadata": {
        "id": "jE4Rc_OO0eJM"
      },
      "source": [
        "## Importing libraries"
      ]
    },
    {
      "cell_type": "code",
      "metadata": {
        "id": "PTBjYh8iyvVK"
      },
      "source": [
        "import numpy as np\n",
        "import pandas as pd\n",
        "import tensorflow as tf"
      ],
      "execution_count": null,
      "outputs": []
    },
    {
      "cell_type": "code",
      "source": [
        "from google.colab import drive\n",
        "drive.mount('/content/drive')"
      ],
      "metadata": {
        "colab": {
          "base_uri": "https://localhost:8080/"
        },
        "id": "_JnzkA7yVofE",
        "outputId": "60384f79-28d5-4c4b-e423-cbc2b91a7a0f"
      },
      "execution_count": null,
      "outputs": [
        {
          "output_type": "stream",
          "name": "stdout",
          "text": [
            "Mounted at /content/drive\n"
          ]
        }
      ]
    },
    {
      "cell_type": "code",
      "metadata": {
        "colab": {
          "base_uri": "https://localhost:8080/",
          "height": 36
        },
        "id": "o0Yhbfo4x39t",
        "outputId": "2a1b1c17-b72d-4b1b-9da6-fc86c179d3fb"
      },
      "source": [
        "tf.__version__"
      ],
      "execution_count": null,
      "outputs": [
        {
          "output_type": "execute_result",
          "data": {
            "text/plain": [
              "'2.15.0'"
            ],
            "application/vnd.google.colaboratory.intrinsic+json": {
              "type": "string"
            }
          },
          "metadata": {},
          "execution_count": 3
        }
      ]
    },
    {
      "cell_type": "markdown",
      "metadata": {
        "id": "A9-xGHd20gY1"
      },
      "source": [
        "## Importing dataset"
      ]
    },
    {
      "cell_type": "code",
      "metadata": {
        "id": "IeX0-BBoyxsw"
      },
      "source": [
        "dataset = pd.read_csv('/content/drive/MyDrive/PREPINSTA DATA ANYLITICS INTERSHIP PROJECTS /PROJECTS /AMERICAN EXPRESS PROJECT /DATASET /Dataset_master.xlsx - American Express User Exit Pred.csv')\n",
        "X = dataset.iloc[:, 0:-1].values\n",
        "y = dataset.iloc[:, -1].values"
      ],
      "execution_count": 4,
      "outputs": []
    },
    {
      "cell_type": "code",
      "metadata": {
        "colab": {
          "base_uri": "https://localhost:8080/"
        },
        "id": "WAFCffJ-06iL",
        "outputId": "c623cec4-bd48-4529-e83b-652e461845da"
      },
      "source": [
        "print(X)"
      ],
      "execution_count": 5,
      "outputs": [
        {
          "output_type": "stream",
          "name": "stdout",
          "text": [
            "[[553 'Delhi' 'Female' ... 4 1 274150]\n",
            " [447 'Bengaluru' 'Male' ... 4 1 519360]\n",
            " [501 'Delhi' 'Female' ... 4 1 545501]\n",
            " ...\n",
            " [627 'Mumbai' 'Female' ... 4 0 494067]\n",
            " [600 'Bengaluru' 'Female' ... 2 1 109375]\n",
            " [553 'Delhi' 'Male' ... 4 1 180031]]\n"
          ]
        }
      ]
    },
    {
      "cell_type": "markdown",
      "metadata": {
        "id": "Q_e8LuHYyX5r"
      },
      "source": [
        "## Encoding categorical data"
      ]
    },
    {
      "cell_type": "markdown",
      "metadata": {
        "id": "NFKMHJzhy4pE"
      },
      "source": [
        "### Gender column : Label Encoding"
      ]
    },
    {
      "cell_type": "code",
      "metadata": {
        "id": "_P_m9jU0yr1A"
      },
      "source": [
        "from sklearn.preprocessing import LabelEncoder\n",
        "label_encoder = LabelEncoder()\n",
        "X[:, 2] = label_encoder.fit_transform(X[:, 2])"
      ],
      "execution_count": 6,
      "outputs": []
    },
    {
      "cell_type": "code",
      "metadata": {
        "colab": {
          "base_uri": "https://localhost:8080/"
        },
        "id": "biOnK7s2yvt-",
        "outputId": "3070e048-4a99-4622-c862-fe69cda5f913"
      },
      "source": [
        "print(X)"
      ],
      "execution_count": 7,
      "outputs": [
        {
          "output_type": "stream",
          "name": "stdout",
          "text": [
            "[[553 'Delhi' 0 ... 4 1 274150]\n",
            " [447 'Bengaluru' 1 ... 4 1 519360]\n",
            " [501 'Delhi' 0 ... 4 1 545501]\n",
            " ...\n",
            " [627 'Mumbai' 0 ... 4 0 494067]\n",
            " [600 'Bengaluru' 0 ... 2 1 109375]\n",
            " [553 'Delhi' 1 ... 4 1 180031]]\n"
          ]
        }
      ]
    },
    {
      "cell_type": "markdown",
      "metadata": {
        "id": "W27VpQo7zRUo"
      },
      "source": [
        "### Geography column : One hot Encoding"
      ]
    },
    {
      "cell_type": "code",
      "metadata": {
        "id": "-2TRCRO8zVly"
      },
      "source": [
        "from sklearn.compose import ColumnTransformer\n",
        "from sklearn.preprocessing import OneHotEncoder\n",
        "ct = ColumnTransformer(transformers=[('encoder', OneHotEncoder(), [1])], remainder='passthrough')\n",
        "X = np.array(ct.fit_transform(X))"
      ],
      "execution_count": 8,
      "outputs": []
    },
    {
      "cell_type": "code",
      "metadata": {
        "colab": {
          "base_uri": "https://localhost:8080/"
        },
        "id": "Lt13uSQ8ziR4",
        "outputId": "aa86258f-403a-41bb-927f-f15bb6eeec17"
      },
      "source": [
        "print(X)"
      ],
      "execution_count": 9,
      "outputs": [
        {
          "output_type": "stream",
          "name": "stdout",
          "text": [
            "[[0.0 1.0 0.0 ... 4 1 274150]\n",
            " [1.0 0.0 0.0 ... 4 1 519360]\n",
            " [0.0 1.0 0.0 ... 4 1 545501]\n",
            " ...\n",
            " [0.0 0.0 1.0 ... 4 0 494067]\n",
            " [1.0 0.0 0.0 ... 2 1 109375]\n",
            " [0.0 1.0 0.0 ... 4 1 180031]]\n"
          ]
        }
      ]
    },
    {
      "cell_type": "markdown",
      "metadata": {
        "id": "8REFJFGC0lRN"
      },
      "source": [
        "## Splitting dataset into Training & Test set"
      ]
    },
    {
      "cell_type": "code",
      "metadata": {
        "id": "Cs6amFsNy4Ri"
      },
      "source": [
        "from sklearn.model_selection import train_test_split\n",
        "X_train, X_test, y_train, y_test = train_test_split(X, y, test_size = 0.2, random_state = 0)"
      ],
      "execution_count": 10,
      "outputs": []
    },
    {
      "cell_type": "markdown",
      "metadata": {
        "id": "9WJ3OvMf2Mpz"
      },
      "source": [
        "## Feature Scaling"
      ]
    },
    {
      "cell_type": "code",
      "metadata": {
        "id": "_lPukZ7C2PYR"
      },
      "source": [
        "from sklearn.preprocessing import StandardScaler\n",
        "sc = StandardScaler()\n",
        "X_train = sc.fit_transform(X_train)\n",
        "X_test = sc.transform(X_test)"
      ],
      "execution_count": 11,
      "outputs": []
    },
    {
      "cell_type": "markdown",
      "metadata": {
        "id": "2QUFYaoH00H6"
      },
      "source": [
        "## ANN"
      ]
    },
    {
      "cell_type": "markdown",
      "metadata": {
        "id": "fmmakWMe2Xe0"
      },
      "source": [
        "### Initialization"
      ]
    },
    {
      "cell_type": "code",
      "metadata": {
        "id": "2iFA5Qkn49UW"
      },
      "source": [
        "ann = tf.keras.models.Sequential()"
      ],
      "execution_count": 12,
      "outputs": []
    },
    {
      "cell_type": "markdown",
      "metadata": {
        "id": "oZs3tLKX2a0c"
      },
      "source": [
        "### Adding input layer and first hidden layer"
      ]
    },
    {
      "cell_type": "code",
      "metadata": {
        "id": "BqUEsAVP5Gp7"
      },
      "source": [
        "ann.add(tf.keras.layers.Dense(units=6, activation='relu'))"
      ],
      "execution_count": 13,
      "outputs": []
    },
    {
      "cell_type": "markdown",
      "metadata": {
        "id": "3VMq7Dzx2inS"
      },
      "source": [
        "### Adding second hidden layer"
      ]
    },
    {
      "cell_type": "code",
      "metadata": {
        "id": "5iqN64Qb5XpM"
      },
      "source": [
        "ann.add(tf.keras.layers.Dense(units=6, activation='relu'))"
      ],
      "execution_count": 14,
      "outputs": []
    },
    {
      "cell_type": "markdown",
      "metadata": {
        "id": "rf0PPM2O2mY4"
      },
      "source": [
        "### Adding output layer"
      ]
    },
    {
      "cell_type": "code",
      "metadata": {
        "id": "16bVnSmy5izv"
      },
      "source": [
        "ann.add(tf.keras.layers.Dense(units=1, activation='sigmoid'))"
      ],
      "execution_count": 15,
      "outputs": []
    },
    {
      "cell_type": "markdown",
      "metadata": {
        "id": "-Dw4Khi70u9g"
      },
      "source": [
        "## ANN Training"
      ]
    },
    {
      "cell_type": "markdown",
      "metadata": {
        "id": "3DGW0tMz6vZF"
      },
      "source": [
        "### Compiling ANN"
      ]
    },
    {
      "cell_type": "code",
      "metadata": {
        "id": "qpRleG206-Cy"
      },
      "source": [
        "ann.compile(optimizer = 'adam', loss = 'binary_crossentropy', metrics = ['accuracy'])"
      ],
      "execution_count": 16,
      "outputs": []
    },
    {
      "cell_type": "markdown",
      "metadata": {
        "id": "JcIyviNr2tiO"
      },
      "source": [
        "### Training on training dataset"
      ]
    },
    {
      "cell_type": "code",
      "metadata": {
        "colab": {
          "base_uri": "https://localhost:8080/"
        },
        "id": "U411c0oi5pGF",
        "outputId": "2f51f97f-495a-48a2-ce66-044eeaa8cc89"
      },
      "source": [
        "ann.fit(X_train, y_train, batch_size = 32, epochs = 120)"
      ],
      "execution_count": 17,
      "outputs": [
        {
          "output_type": "stream",
          "name": "stdout",
          "text": [
            "Epoch 1/120\n",
            "249/249 [==============================] - 2s 2ms/step - loss: 0.6298 - accuracy: 0.7065\n",
            "Epoch 2/120\n",
            "249/249 [==============================] - 0s 2ms/step - loss: 0.5063 - accuracy: 0.7957\n",
            "Epoch 3/120\n",
            "249/249 [==============================] - 0s 2ms/step - loss: 0.4571 - accuracy: 0.7971\n",
            "Epoch 4/120\n",
            "249/249 [==============================] - 0s 2ms/step - loss: 0.4363 - accuracy: 0.7993\n",
            "Epoch 5/120\n",
            "249/249 [==============================] - 0s 2ms/step - loss: 0.4228 - accuracy: 0.8087\n",
            "Epoch 6/120\n",
            "249/249 [==============================] - 0s 2ms/step - loss: 0.4133 - accuracy: 0.8166\n",
            "Epoch 7/120\n",
            "249/249 [==============================] - 0s 2ms/step - loss: 0.4071 - accuracy: 0.8228\n",
            "Epoch 8/120\n",
            "249/249 [==============================] - 0s 2ms/step - loss: 0.4027 - accuracy: 0.8260\n",
            "Epoch 9/120\n",
            "249/249 [==============================] - 0s 2ms/step - loss: 0.3994 - accuracy: 0.8238\n",
            "Epoch 10/120\n",
            "249/249 [==============================] - 0s 2ms/step - loss: 0.3970 - accuracy: 0.8281\n",
            "Epoch 11/120\n",
            "249/249 [==============================] - 0s 2ms/step - loss: 0.3949 - accuracy: 0.8297\n",
            "Epoch 12/120\n",
            "249/249 [==============================] - 0s 2ms/step - loss: 0.3926 - accuracy: 0.8316\n",
            "Epoch 13/120\n",
            "249/249 [==============================] - 0s 2ms/step - loss: 0.3913 - accuracy: 0.8295\n",
            "Epoch 14/120\n",
            "249/249 [==============================] - 0s 2ms/step - loss: 0.3892 - accuracy: 0.8316\n",
            "Epoch 15/120\n",
            "249/249 [==============================] - 0s 2ms/step - loss: 0.3873 - accuracy: 0.8335\n",
            "Epoch 16/120\n",
            "249/249 [==============================] - 0s 2ms/step - loss: 0.3854 - accuracy: 0.8336\n",
            "Epoch 17/120\n",
            "249/249 [==============================] - 0s 2ms/step - loss: 0.3835 - accuracy: 0.8355\n",
            "Epoch 18/120\n",
            "249/249 [==============================] - 0s 2ms/step - loss: 0.3822 - accuracy: 0.8367\n",
            "Epoch 19/120\n",
            "249/249 [==============================] - 0s 2ms/step - loss: 0.3798 - accuracy: 0.8389\n",
            "Epoch 20/120\n",
            "249/249 [==============================] - 0s 2ms/step - loss: 0.3775 - accuracy: 0.8393\n",
            "Epoch 21/120\n",
            "249/249 [==============================] - 0s 2ms/step - loss: 0.3756 - accuracy: 0.8403\n",
            "Epoch 22/120\n",
            "249/249 [==============================] - 1s 2ms/step - loss: 0.3732 - accuracy: 0.8440\n",
            "Epoch 23/120\n",
            "249/249 [==============================] - 1s 3ms/step - loss: 0.3715 - accuracy: 0.8459\n",
            "Epoch 24/120\n",
            "249/249 [==============================] - 1s 3ms/step - loss: 0.3688 - accuracy: 0.8478\n",
            "Epoch 25/120\n",
            "249/249 [==============================] - 1s 3ms/step - loss: 0.3682 - accuracy: 0.8465\n",
            "Epoch 26/120\n",
            "249/249 [==============================] - 1s 3ms/step - loss: 0.3672 - accuracy: 0.8483\n",
            "Epoch 27/120\n",
            "249/249 [==============================] - 1s 3ms/step - loss: 0.3657 - accuracy: 0.8465\n",
            "Epoch 28/120\n",
            "249/249 [==============================] - 1s 3ms/step - loss: 0.3644 - accuracy: 0.8470\n",
            "Epoch 29/120\n",
            "249/249 [==============================] - 0s 2ms/step - loss: 0.3637 - accuracy: 0.8476\n",
            "Epoch 30/120\n",
            "249/249 [==============================] - 0s 2ms/step - loss: 0.3634 - accuracy: 0.8483\n",
            "Epoch 31/120\n",
            "249/249 [==============================] - 0s 2ms/step - loss: 0.3626 - accuracy: 0.8472\n",
            "Epoch 32/120\n",
            "249/249 [==============================] - 0s 2ms/step - loss: 0.3616 - accuracy: 0.8471\n",
            "Epoch 33/120\n",
            "249/249 [==============================] - 0s 2ms/step - loss: 0.3615 - accuracy: 0.8472\n",
            "Epoch 34/120\n",
            "249/249 [==============================] - 0s 2ms/step - loss: 0.3609 - accuracy: 0.8489\n",
            "Epoch 35/120\n",
            "249/249 [==============================] - 0s 2ms/step - loss: 0.3600 - accuracy: 0.8475\n",
            "Epoch 36/120\n",
            "249/249 [==============================] - 0s 2ms/step - loss: 0.3596 - accuracy: 0.8483\n",
            "Epoch 37/120\n",
            "249/249 [==============================] - 1s 2ms/step - loss: 0.3596 - accuracy: 0.8480\n",
            "Epoch 38/120\n",
            "249/249 [==============================] - 0s 2ms/step - loss: 0.3587 - accuracy: 0.8481\n",
            "Epoch 39/120\n",
            "249/249 [==============================] - 0s 2ms/step - loss: 0.3582 - accuracy: 0.8481\n",
            "Epoch 40/120\n",
            "249/249 [==============================] - 0s 2ms/step - loss: 0.3583 - accuracy: 0.8470\n",
            "Epoch 41/120\n",
            "249/249 [==============================] - 0s 2ms/step - loss: 0.3577 - accuracy: 0.8501\n",
            "Epoch 42/120\n",
            "249/249 [==============================] - 0s 2ms/step - loss: 0.3572 - accuracy: 0.8488\n",
            "Epoch 43/120\n",
            "249/249 [==============================] - 0s 2ms/step - loss: 0.3567 - accuracy: 0.8500\n",
            "Epoch 44/120\n",
            "249/249 [==============================] - 0s 2ms/step - loss: 0.3559 - accuracy: 0.8496\n",
            "Epoch 45/120\n",
            "249/249 [==============================] - 0s 2ms/step - loss: 0.3560 - accuracy: 0.8505\n",
            "Epoch 46/120\n",
            "249/249 [==============================] - 0s 2ms/step - loss: 0.3558 - accuracy: 0.8509\n",
            "Epoch 47/120\n",
            "249/249 [==============================] - 0s 2ms/step - loss: 0.3554 - accuracy: 0.8491\n",
            "Epoch 48/120\n",
            "249/249 [==============================] - 0s 2ms/step - loss: 0.3547 - accuracy: 0.8496\n",
            "Epoch 49/120\n",
            "249/249 [==============================] - 1s 2ms/step - loss: 0.3546 - accuracy: 0.8512\n",
            "Epoch 50/120\n",
            "249/249 [==============================] - 1s 3ms/step - loss: 0.3542 - accuracy: 0.8499\n",
            "Epoch 51/120\n",
            "249/249 [==============================] - 1s 3ms/step - loss: 0.3542 - accuracy: 0.8504\n",
            "Epoch 52/120\n",
            "249/249 [==============================] - 1s 3ms/step - loss: 0.3532 - accuracy: 0.8494\n",
            "Epoch 53/120\n",
            "249/249 [==============================] - 1s 4ms/step - loss: 0.3536 - accuracy: 0.8513\n",
            "Epoch 54/120\n",
            "249/249 [==============================] - 1s 3ms/step - loss: 0.3533 - accuracy: 0.8494\n",
            "Epoch 55/120\n",
            "249/249 [==============================] - 0s 2ms/step - loss: 0.3529 - accuracy: 0.8505\n",
            "Epoch 56/120\n",
            "249/249 [==============================] - 0s 2ms/step - loss: 0.3530 - accuracy: 0.8500\n",
            "Epoch 57/120\n",
            "249/249 [==============================] - 0s 2ms/step - loss: 0.3524 - accuracy: 0.8498\n",
            "Epoch 58/120\n",
            "249/249 [==============================] - 0s 2ms/step - loss: 0.3524 - accuracy: 0.8505\n",
            "Epoch 59/120\n",
            "249/249 [==============================] - 0s 2ms/step - loss: 0.3522 - accuracy: 0.8510\n",
            "Epoch 60/120\n",
            "249/249 [==============================] - 0s 2ms/step - loss: 0.3521 - accuracy: 0.8512\n",
            "Epoch 61/120\n",
            "249/249 [==============================] - 0s 2ms/step - loss: 0.3522 - accuracy: 0.8501\n",
            "Epoch 62/120\n",
            "249/249 [==============================] - 0s 2ms/step - loss: 0.3516 - accuracy: 0.8500\n",
            "Epoch 63/120\n",
            "249/249 [==============================] - 0s 2ms/step - loss: 0.3514 - accuracy: 0.8506\n",
            "Epoch 64/120\n",
            "249/249 [==============================] - 0s 2ms/step - loss: 0.3513 - accuracy: 0.8513\n",
            "Epoch 65/120\n",
            "249/249 [==============================] - 0s 2ms/step - loss: 0.3512 - accuracy: 0.8504\n",
            "Epoch 66/120\n",
            "249/249 [==============================] - 0s 2ms/step - loss: 0.3512 - accuracy: 0.8500\n",
            "Epoch 67/120\n",
            "249/249 [==============================] - 0s 2ms/step - loss: 0.3507 - accuracy: 0.8508\n",
            "Epoch 68/120\n",
            "249/249 [==============================] - 0s 2ms/step - loss: 0.3509 - accuracy: 0.8506\n",
            "Epoch 69/120\n",
            "249/249 [==============================] - 0s 2ms/step - loss: 0.3506 - accuracy: 0.8501\n",
            "Epoch 70/120\n",
            "249/249 [==============================] - 0s 2ms/step - loss: 0.3505 - accuracy: 0.8506\n",
            "Epoch 71/120\n",
            "249/249 [==============================] - 0s 2ms/step - loss: 0.3505 - accuracy: 0.8504\n",
            "Epoch 72/120\n",
            "249/249 [==============================] - 0s 2ms/step - loss: 0.3498 - accuracy: 0.8500\n",
            "Epoch 73/120\n",
            "249/249 [==============================] - 0s 2ms/step - loss: 0.3498 - accuracy: 0.8509\n",
            "Epoch 74/120\n",
            "249/249 [==============================] - 0s 2ms/step - loss: 0.3502 - accuracy: 0.8520\n",
            "Epoch 75/120\n",
            "249/249 [==============================] - 0s 2ms/step - loss: 0.3502 - accuracy: 0.8509\n",
            "Epoch 76/120\n",
            "249/249 [==============================] - 0s 2ms/step - loss: 0.3502 - accuracy: 0.8517\n",
            "Epoch 77/120\n",
            "249/249 [==============================] - 1s 3ms/step - loss: 0.3500 - accuracy: 0.8532\n",
            "Epoch 78/120\n",
            "249/249 [==============================] - 1s 3ms/step - loss: 0.3494 - accuracy: 0.8538\n",
            "Epoch 79/120\n",
            "249/249 [==============================] - 1s 3ms/step - loss: 0.3494 - accuracy: 0.8513\n",
            "Epoch 80/120\n",
            "249/249 [==============================] - 1s 3ms/step - loss: 0.3496 - accuracy: 0.8519\n",
            "Epoch 81/120\n",
            "249/249 [==============================] - 1s 3ms/step - loss: 0.3497 - accuracy: 0.8518\n",
            "Epoch 82/120\n",
            "249/249 [==============================] - 0s 2ms/step - loss: 0.3496 - accuracy: 0.8529\n",
            "Epoch 83/120\n",
            "249/249 [==============================] - 0s 2ms/step - loss: 0.3492 - accuracy: 0.8506\n",
            "Epoch 84/120\n",
            "249/249 [==============================] - 0s 2ms/step - loss: 0.3490 - accuracy: 0.8532\n",
            "Epoch 85/120\n",
            "249/249 [==============================] - 1s 2ms/step - loss: 0.3492 - accuracy: 0.8522\n",
            "Epoch 86/120\n",
            "249/249 [==============================] - 0s 2ms/step - loss: 0.3494 - accuracy: 0.8527\n",
            "Epoch 87/120\n",
            "249/249 [==============================] - 0s 2ms/step - loss: 0.3489 - accuracy: 0.8525\n",
            "Epoch 88/120\n",
            "249/249 [==============================] - 0s 2ms/step - loss: 0.3491 - accuracy: 0.8525\n",
            "Epoch 89/120\n",
            "249/249 [==============================] - 1s 2ms/step - loss: 0.3494 - accuracy: 0.8528\n",
            "Epoch 90/120\n",
            "249/249 [==============================] - 1s 2ms/step - loss: 0.3491 - accuracy: 0.8525\n",
            "Epoch 91/120\n",
            "249/249 [==============================] - 0s 2ms/step - loss: 0.3496 - accuracy: 0.8539\n",
            "Epoch 92/120\n",
            "249/249 [==============================] - 0s 2ms/step - loss: 0.3490 - accuracy: 0.8519\n",
            "Epoch 93/120\n",
            "249/249 [==============================] - 0s 2ms/step - loss: 0.3492 - accuracy: 0.8535\n",
            "Epoch 94/120\n",
            "249/249 [==============================] - 1s 2ms/step - loss: 0.3491 - accuracy: 0.8503\n",
            "Epoch 95/120\n",
            "249/249 [==============================] - 0s 2ms/step - loss: 0.3489 - accuracy: 0.8517\n",
            "Epoch 96/120\n",
            "249/249 [==============================] - 0s 2ms/step - loss: 0.3491 - accuracy: 0.8530\n",
            "Epoch 97/120\n",
            "249/249 [==============================] - 0s 2ms/step - loss: 0.3489 - accuracy: 0.8503\n",
            "Epoch 98/120\n",
            "249/249 [==============================] - 0s 2ms/step - loss: 0.3486 - accuracy: 0.8518\n",
            "Epoch 99/120\n",
            "249/249 [==============================] - 0s 2ms/step - loss: 0.3486 - accuracy: 0.8517\n",
            "Epoch 100/120\n",
            "249/249 [==============================] - 0s 2ms/step - loss: 0.3485 - accuracy: 0.8514\n",
            "Epoch 101/120\n",
            "249/249 [==============================] - 0s 2ms/step - loss: 0.3490 - accuracy: 0.8509\n",
            "Epoch 102/120\n",
            "249/249 [==============================] - 0s 2ms/step - loss: 0.3491 - accuracy: 0.8519\n",
            "Epoch 103/120\n",
            "249/249 [==============================] - 1s 3ms/step - loss: 0.3483 - accuracy: 0.8519\n",
            "Epoch 104/120\n",
            "249/249 [==============================] - 1s 3ms/step - loss: 0.3486 - accuracy: 0.8524\n",
            "Epoch 105/120\n",
            "249/249 [==============================] - 1s 3ms/step - loss: 0.3485 - accuracy: 0.8515\n",
            "Epoch 106/120\n",
            "249/249 [==============================] - 1s 3ms/step - loss: 0.3480 - accuracy: 0.8523\n",
            "Epoch 107/120\n",
            "249/249 [==============================] - 1s 4ms/step - loss: 0.3483 - accuracy: 0.8520\n",
            "Epoch 108/120\n",
            "249/249 [==============================] - 1s 3ms/step - loss: 0.3481 - accuracy: 0.8534\n",
            "Epoch 109/120\n",
            "249/249 [==============================] - 0s 2ms/step - loss: 0.3482 - accuracy: 0.8524\n",
            "Epoch 110/120\n",
            "249/249 [==============================] - 1s 4ms/step - loss: 0.3485 - accuracy: 0.8509\n",
            "Epoch 111/120\n",
            "249/249 [==============================] - 0s 2ms/step - loss: 0.3481 - accuracy: 0.8518\n",
            "Epoch 112/120\n",
            "249/249 [==============================] - 0s 2ms/step - loss: 0.3480 - accuracy: 0.8524\n",
            "Epoch 113/120\n",
            "249/249 [==============================] - 0s 2ms/step - loss: 0.3480 - accuracy: 0.8527\n",
            "Epoch 114/120\n",
            "249/249 [==============================] - 1s 2ms/step - loss: 0.3481 - accuracy: 0.8530\n",
            "Epoch 115/120\n",
            "249/249 [==============================] - 1s 2ms/step - loss: 0.3484 - accuracy: 0.8522\n",
            "Epoch 116/120\n",
            "249/249 [==============================] - 1s 2ms/step - loss: 0.3482 - accuracy: 0.8522\n",
            "Epoch 117/120\n",
            "249/249 [==============================] - 0s 2ms/step - loss: 0.3480 - accuracy: 0.8514\n",
            "Epoch 118/120\n",
            "249/249 [==============================] - 0s 2ms/step - loss: 0.3477 - accuracy: 0.8519\n",
            "Epoch 119/120\n",
            "249/249 [==============================] - 0s 2ms/step - loss: 0.3477 - accuracy: 0.8503\n",
            "Epoch 120/120\n",
            "249/249 [==============================] - 0s 2ms/step - loss: 0.3477 - accuracy: 0.8515\n"
          ]
        },
        {
          "output_type": "execute_result",
          "data": {
            "text/plain": [
              "<keras.src.callbacks.History at 0x7f86a423f100>"
            ]
          },
          "metadata": {},
          "execution_count": 17
        }
      ]
    },
    {
      "cell_type": "markdown",
      "metadata": {
        "id": "YDjEXibj22y8"
      },
      "source": [
        "# Predictions"
      ]
    },
    {
      "cell_type": "markdown",
      "metadata": {
        "id": "8KQtJPsR28Km"
      },
      "source": [
        "### Single Prediction"
      ]
    },
    {
      "cell_type": "code",
      "metadata": {
        "id": "u33xFIS23KtS",
        "colab": {
          "base_uri": "https://localhost:8080/"
        },
        "outputId": "8bac695d-913f-49de-fd3f-5142eec1070b"
      },
      "source": [
        "print(ann.predict(sc.transform([[0.0, 1.0, 0.0, 501, 0, 32, 2, 0.0, 4, 1, 545501]])) > 0.5)"
      ],
      "execution_count": 18,
      "outputs": [
        {
          "output_type": "stream",
          "name": "stdout",
          "text": [
            "1/1 [==============================] - 0s 98ms/step\n",
            "[[False]]\n"
          ]
        }
      ]
    },
    {
      "cell_type": "markdown",
      "metadata": {
        "id": "0HxpzoQo2_Gf"
      },
      "source": [
        "### Predication on testset"
      ]
    },
    {
      "cell_type": "code",
      "metadata": {
        "id": "tUCnLY6e3Imj",
        "colab": {
          "base_uri": "https://localhost:8080/"
        },
        "outputId": "f094f8ac-27cc-4bff-a55d-b310968b201b"
      },
      "source": [
        "y_pred = ann.predict(X_test)\n",
        "y_pred = (y_pred > 0.5)\n",
        "print(np.concatenate((y_pred.reshape(len(y_pred),1), y_test.reshape(len(y_test),1)),1))"
      ],
      "execution_count": 19,
      "outputs": [
        {
          "output_type": "stream",
          "name": "stdout",
          "text": [
            "63/63 [==============================] - 0s 1ms/step\n",
            "[[0 1]\n",
            " [0 0]\n",
            " [0 0]\n",
            " ...\n",
            " [0 1]\n",
            " [0 0]\n",
            " [1 1]]\n"
          ]
        }
      ]
    },
    {
      "cell_type": "markdown",
      "metadata": {
        "id": "_YpFOI9d3C-5"
      },
      "source": [
        "### Confusion Matrix"
      ]
    },
    {
      "cell_type": "code",
      "metadata": {
        "id": "UYvqw6qvy5J4",
        "colab": {
          "base_uri": "https://localhost:8080/"
        },
        "outputId": "c2867f2b-f939-4acc-b2b1-f81a2ed4937e"
      },
      "source": [
        "from sklearn.metrics import confusion_matrix, accuracy_score\n",
        "cm = confusion_matrix(y_test, y_pred)\n",
        "print(cm)\n",
        "accuracy_score(y_test, y_pred)"
      ],
      "execution_count": 20,
      "outputs": [
        {
          "output_type": "stream",
          "name": "stdout",
          "text": [
            "[[1512   61]\n",
            " [ 228  185]]\n"
          ]
        },
        {
          "output_type": "execute_result",
          "data": {
            "text/plain": [
              "0.8544813695871097"
            ]
          },
          "metadata": {},
          "execution_count": 20
        }
      ]
    }
  ]
}